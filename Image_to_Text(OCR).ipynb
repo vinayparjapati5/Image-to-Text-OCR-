{
  "nbformat": 4,
  "nbformat_minor": 0,
  "metadata": {
    "colab": {
      "provenance": [],
      "authorship_tag": "ABX9TyMItbmWqm3Oun+8npeGrNgy",
      "include_colab_link": true
    },
    "kernelspec": {
      "name": "python3",
      "display_name": "Python 3"
    },
    "language_info": {
      "name": "python"
    }
  },
  "cells": [
    {
      "cell_type": "markdown",
      "metadata": {
        "id": "view-in-github",
        "colab_type": "text"
      },
      "source": [
        "<a href=\"https://colab.research.google.com/github/vinayparjapati5/Image-to-Text-OCR-/blob/main/Image_to_Text(OCR).ipynb\" target=\"_parent\"><img src=\"https://colab.research.google.com/assets/colab-badge.svg\" alt=\"Open In Colab\"/></a>"
      ]
    },
    {
      "cell_type": "markdown",
      "source": [
        "---\n",
        "## **Mini Project : Image to text(OCR)**\n",
        "---"
      ],
      "metadata": {
        "id": "PUMhBUkNl-kY"
      }
    },
    {
      "cell_type": "markdown",
      "source": [
        "---\n",
        "### 1. Installing Libraries\n",
        "---"
      ],
      "metadata": {
        "id": "Cpyt3VwnmJVs"
      }
    },
    {
      "cell_type": "code",
      "execution_count": 1,
      "metadata": {
        "colab": {
          "base_uri": "https://localhost:8080/"
        },
        "id": "j38VwIj6l4SJ",
        "outputId": "8621742c-7363-489c-f88c-aa348a0588d9"
      },
      "outputs": [
        {
          "output_type": "stream",
          "name": "stdout",
          "text": [
            " Tesseract-ocr installed successfully\n",
            " Pytesseract installed successfully\n",
            " Pillow==9.0.0 installed successfully\n"
          ]
        }
      ],
      "source": [
        "!sudo apt install tesseract-ocr &> /dev/null\n",
        "print(\" Tesseract-ocr installed successfully\")\n",
        "!pip install pytesseract &> /dev/null\n",
        "print(\" Pytesseract installed successfully\")\n",
        "!pip install Pillow==9.0.0 &> /dev/null\n",
        "print(\" Pillow==9.0.0 installed successfully\")"
      ]
    },
    {
      "cell_type": "markdown",
      "source": [
        "---\n",
        "### 2. Import Libraries\n",
        "---"
      ],
      "metadata": {
        "id": "qtWjDucKmz0N"
      }
    },
    {
      "cell_type": "code",
      "source": [
        "import pytesseract\n",
        "from PIL import Image"
      ],
      "metadata": {
        "id": "mDMZLPUrnDzS"
      },
      "execution_count": 2,
      "outputs": []
    },
    {
      "cell_type": "markdown",
      "source": [
        "---\n",
        "### 3. Add Image\n",
        "---"
      ],
      "metadata": {
        "id": "NygIkekBnJC8"
      }
    },
    {
      "cell_type": "code",
      "source": [
        "img = Image.open('/content/Screenshot 2023-06-16 200128.png')\n",
        "print(img)"
      ],
      "metadata": {
        "colab": {
          "base_uri": "https://localhost:8080/"
        },
        "id": "CXtbBcChnM_t",
        "outputId": "c803b8c9-fb34-4102-99a5-4818e19b4d10"
      },
      "execution_count": 3,
      "outputs": [
        {
          "output_type": "stream",
          "name": "stdout",
          "text": [
            "<PIL.PngImagePlugin.PngImageFile image mode=RGBA size=887x645 at 0x7FAADBEC7F10>\n"
          ]
        }
      ]
    },
    {
      "cell_type": "markdown",
      "source": [
        "---\n",
        "### 4. Converted Text"
      ],
      "metadata": {
        "id": "HneSOz2kn5H2"
      }
    },
    {
      "cell_type": "code",
      "source": [
        "result = pytesseract.image_to_string(Image.open('/content/Screenshot 2023-06-16 200128.png'))\n",
        "print(result)\n",
        "fp = open(\"result_converted text.txt\",'w');\n",
        "fp.write(result)\n",
        "fp.close();"
      ],
      "metadata": {
        "colab": {
          "base_uri": "https://localhost:8080/"
        },
        "id": "VVvULwwNn4x3",
        "outputId": "5e5f89c4-2aed-456d-d519-4f13103a9e90"
      },
      "execution_count": 4,
      "outputs": [
        {
          "output_type": "stream",
          "name": "stdout",
          "text": [
            "Process synchronization\n",
            "\n",
            "It is the task phenomenon of coordinating the execution of processes in such a\n",
            "way that no two processes can have access to the same shared data and\n",
            "resources.\n",
            "\n",
            "It is a procedure that is involved in order to preserve the appropriate order of\n",
            "execution of cooperative processes.\n",
            "\n",
            "In order to synchronize the processes, there are various synchronization\n",
            "mechanisms.\n",
            "\n",
            "Process Synchronization is mainly needed in a multi-process system when\n",
            "multiple processes are running together, and more than one processes try to\n",
            "\n",
            "gain access to the same shared resource or any data at the same time\n",
            "\n",
            "Process synchronization is basically a way to coordinate processes that use shared\n",
            "resources or data. It is very much essential to ensure synchronized execution of\n",
            "cooperating processes so that will maintain data consistency. Its main purpose is to share\n",
            "resources without any interference using mutual exclusion.\n",
            "\f\n"
          ]
        }
      ]
    },
    {
      "cell_type": "markdown",
      "source": [
        "---\n",
        "### Download result file\n",
        "---"
      ],
      "metadata": {
        "id": "n3ksl6F9o04q"
      }
    },
    {
      "cell_type": "code",
      "source": [
        "from google.colab import files\n",
        "files.download('/content/result_converted text.txt')"
      ],
      "metadata": {
        "colab": {
          "base_uri": "https://localhost:8080/",
          "height": 17
        },
        "id": "0aCG0uMWkS_m",
        "outputId": "8b7f514a-a99b-491b-eb86-dc31c8e747d8"
      },
      "execution_count": 5,
      "outputs": [
        {
          "output_type": "display_data",
          "data": {
            "text/plain": [
              "<IPython.core.display.Javascript object>"
            ],
            "application/javascript": [
              "\n",
              "    async function download(id, filename, size) {\n",
              "      if (!google.colab.kernel.accessAllowed) {\n",
              "        return;\n",
              "      }\n",
              "      const div = document.createElement('div');\n",
              "      const label = document.createElement('label');\n",
              "      label.textContent = `Downloading \"${filename}\": `;\n",
              "      div.appendChild(label);\n",
              "      const progress = document.createElement('progress');\n",
              "      progress.max = size;\n",
              "      div.appendChild(progress);\n",
              "      document.body.appendChild(div);\n",
              "\n",
              "      const buffers = [];\n",
              "      let downloaded = 0;\n",
              "\n",
              "      const channel = await google.colab.kernel.comms.open(id);\n",
              "      // Send a message to notify the kernel that we're ready.\n",
              "      channel.send({})\n",
              "\n",
              "      for await (const message of channel.messages) {\n",
              "        // Send a message to notify the kernel that we're ready.\n",
              "        channel.send({})\n",
              "        if (message.buffers) {\n",
              "          for (const buffer of message.buffers) {\n",
              "            buffers.push(buffer);\n",
              "            downloaded += buffer.byteLength;\n",
              "            progress.value = downloaded;\n",
              "          }\n",
              "        }\n",
              "      }\n",
              "      const blob = new Blob(buffers, {type: 'application/binary'});\n",
              "      const a = document.createElement('a');\n",
              "      a.href = window.URL.createObjectURL(blob);\n",
              "      a.download = filename;\n",
              "      div.appendChild(a);\n",
              "      a.click();\n",
              "      div.remove();\n",
              "    }\n",
              "  "
            ]
          },
          "metadata": {}
        },
        {
          "output_type": "display_data",
          "data": {
            "text/plain": [
              "<IPython.core.display.Javascript object>"
            ],
            "application/javascript": [
              "download(\"download_18fc6263-365f-4714-ab5d-f9367c981d49\", \"result_converted text.txt\", 924)"
            ]
          },
          "metadata": {}
        }
      ]
    }
  ]
}